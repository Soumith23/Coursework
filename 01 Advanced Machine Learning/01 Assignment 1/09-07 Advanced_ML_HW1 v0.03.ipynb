{
 "cells": [
  {
   "cell_type": "markdown",
   "metadata": {
    "id": "voAS4e-XbWaH"
   },
   "source": [
    "# Assignment - 1 (65 pts)\n",
    "\n",
    "### Due: 11:59 PM CT, September 7 \n",
    "\n",
    "---\n",
    "\n",
    "\n",
    "### By: Viswa Tej Seela- VS26276 and Soumith Reddy Palreddy-SP54266\n"
   ]
  },
  {
   "cell_type": "markdown",
   "metadata": {
    "id": "Rh_WVVdznfMN"
   },
   "source": [
    "# Question 1: Adoption of AI/ML (5 pts)\n",
    "\n",
    "Read the HBR article on barriers to adoption of AI/ML based solutions in the healthcare industry, which is posted as the first document in Canvas under Modules --> Resources.\n",
    "\n",
    "Write a paragraph in your own words summarizing what you feel were the key factors that contributed to the lack of trust (and hence adoption) of the AI/ML solutions discussed. "
   ]
  },
  {
   "cell_type": "markdown",
   "metadata": {},
   "source": [
    "### Answer\n",
    "\n",
    "As mentioned in the article, people feel that their individual idiosyncratic characteristics and circumstances aren't well understood by an AI system - But, are well understood by a person (doctor). They feel the AI systems may lack empathy when they describe their problem, for example - cold is a very common condition and most of the people wouldn't even take medicines however, there could be few people who would be deeply concerned with \"their\" cold and how it interferes with their day-to-day activities. People feel that these idiosyncracies wouldn't be well understood by machines - in other words, AI wouldn't have a personalized treatment methodology.\n",
    "\n",
    "Also, though not mentioned in the article - one interesting thing is to look at the false treatment/diagnosis by the doctor vs. AI. If there are any cases which any junior doctors could easily identify the correct treatment/diagnosis but the AI goes wrong inspite of a higher accuracy that the doctor would create a high sense of distrust amongst people.\n",
    "\n",
    "Going forward, medical professionals should leverage AI and if the final decisions are made by humans - then people would be comfortable to adopt these kind of technologies.\n",
    "\n",
    "safety and awareness"
   ]
  },
  {
   "cell_type": "markdown",
   "metadata": {
    "id": "IkVxrWs0o0tn"
   },
   "source": [
    "\n",
    "# Question 2: Google Flu Trends (8 pts)\n",
    "\n",
    "The second article posted  in Canvas under Modules --> Resources, (google flu) describes a high-profile (and embarrassingly  failed)  project done by google, highlighting the phenomena of data drift and the importance of continually monitoring/updating models post deployment.\n",
    "\n",
    "Read this article and then briefly describe \n",
    "\n",
    "(i) three important causes of \"data drift\" in the flu prediction problem that are mentioned in the article, and\n",
    "\n",
    "(ii) one important aspect of the original google model design that made it very prone to overfitting (and hence poor generalization on future data).\n"
   ]
  },
  {
   "cell_type": "markdown",
   "metadata": {},
   "source": [
    "### Answer\n",
    "\n",
    "###### (i) The main reasons for \"data drift\" in the flu prediction problem are:<br> \n",
    "1. <b> Big Data Hubris </b>:\n",
    "\n",
    "    a. <b>Firstly</b>, its the way the GFT was designed as a marriage of small and big data - using 50 million search terms to fit 1152 datapoints is quite a risky task as its more likely to find unnecessary and irrelevant correlations resulting in overfitting.\n",
    "    \n",
    "    b. <b>Secondly</b>, the algorithm or the ML engineers didn't have any feedback mechanism - probably regularly monitoring the data to look at the errors and derive patterns from it could have helped to account for that error improving accuracy. Quite often we miss out on looking for patterns in errors, if there is a pattern in an error it implies that there is some signal in the data which could be picked up by our model to improve the accuracy\n",
    "    \n",
    "    \n",
    "\n",
    "2. <b>Search Algorithm Updates</b>: <b>Thirdly</b>, the changes made to the google search algorithm which resulted in changes to the way data was captured - it is important in data/ML operations that any tweaks made to the process of creating data is closely monitored and tested on all the downstream systems and the results are interpreted if they are sane to go ahead with. Here, we notice that, when the google search algo was tweaked there was no diligence to make sure if the GFT algo would work well with the modified data\n",
    "\n",
    "\n",
    "3. <b>Changes in the data due to media induced panic</b>: <u>In Addition to the above,</u>  reports of flu outbreak in media made more and more people to search for flu and GFT perceived it to be an outbreak while it was just to stay updataed on the current situation. This raises the question that the way this data is captured it it right? and there is no way we could know if it is as google doesn't provide all the data used to generate this large corpus.\n",
    "\n",
    "\n",
    "###### (ii) \n",
    "\n",
    "The main aspect of original google model design that makes it prone to overfitting is the way the GFT is designed to find best matches amongst 50 million search terms to fit 1152 data points - this would definetely result in huge amounts of unimportant correlations thus making the model to overfit. While fitting these datapoints GFT did remove the terms which were structurally unrelated to the flu but also removed a few terms which are used by CDC which isn't a clean way to remove data terms. Eventually, this resulted in overfitting of small number of cases in the large bunch of search terms and getting lost in unnecessary patterns in the due process of iterative elimianation of removing unessential search terms. Thus, losing upon the important search terms as well.\n",
    "\n",
    "A clear result of this can be explained by the model's failure in predicting the H1N1 infulenza owing to the above mentioned reasons.\n"
   ]
  },
  {
   "cell_type": "markdown",
   "metadata": {
    "id": "hpTvwLiHVmfo"
   },
   "source": [
    "# Question 3: Maximum Likelihood Estimate (12 pts)\n",
    "\n",
    "100 students in the MSBA Program were asked if they wanted to buy the Big Ticket for the season. They reported their preferences by entering No or Yes in the survey. We use 0 to represent their disinterest in buying the Big Ticket and 1 to represent their interest. A random sample of 30 students yielded the following preferences:\n",
    "\n",
    "$$0 0 1 1 0 1 0 1 1 1 0 1 1 0 1 0 0 1 1 1 0 0 1 1 0 1 1 0 0 1$$\n",
    "\n",
    "These choices are assumed to arise by independent and identically distributed (i.i.d.) sampling from the following distribution and if the unknown parameter $q$ can be estimated, then we can provide more insights about the students' preference.\n",
    "\n",
    "$$\n",
    "\\begin{equation}\n",
    "\\nonumber P(x) = \\left\\{\n",
    "\\begin{array}{l l}\n",
    "    q& \\quad \\text{for  } x=0\\\\\n",
    "1-q & \\quad \\text{for } x=1\n",
    "\\end{array} \\right.\n",
    "\\end{equation}\n",
    "$$\n",
    "\n",
    "\n",
    "1. Based on the definitions given above, write down the likelihood function (3 pts)\n",
    "2. Derive the **maximum likelihood estimator** of $q$ (Algenric expression in terms of variables) (3 pts)\n",
    "3. Using the given sample, find a maximum likelihood estimate of $q$ as well (numerical value) (3 pts)\n",
    "4. Show that the maximum likelihood estimate is unbiased (3 pts)\n",
    "\n",
    "Note: For this question, you can either upload a scanned copy of the handwritten solution or write the answer in LaTex/Markdown.\n"
   ]
  },
  {
   "cell_type": "code",
   "execution_count": 10,
   "metadata": {},
   "outputs": [
    {
     "data": {
      "text/html": [
       "<img src=\"AML Q3 part 1.jpeg\"/>"
      ],
      "text/plain": [
       "<IPython.core.display.Image object>"
      ]
     },
     "execution_count": 10,
     "metadata": {},
     "output_type": "execute_result"
    }
   ],
   "source": [
    "# Attached the pictures as well for future reference\n",
    "\n",
    "from IPython.display import Image\n",
    "from IPython.core.display import HTML \n",
    "Image(url= \"AML Q3 part 1.jpeg\")"
   ]
  },
  {
   "cell_type": "code",
   "execution_count": 9,
   "metadata": {},
   "outputs": [
    {
     "data": {
      "text/html": [
       "<img src=\"AML Q3 part 2.jpeg\"/>"
      ],
      "text/plain": [
       "<IPython.core.display.Image object>"
      ]
     },
     "execution_count": 9,
     "metadata": {},
     "output_type": "execute_result"
    }
   ],
   "source": [
    "Image(url= \"AML Q3 part 2.jpeg\")"
   ]
  },
  {
   "cell_type": "markdown",
   "metadata": {},
   "source": []
  },
  {
   "cell_type": "markdown",
   "metadata": {
    "id": "nTWFVcvwXP4w"
   },
   "source": [
    "# Question 4: Linear Regression (10 pts)\n",
    "\n",
    "1. What is the difference between R-square and adjusted R square and why is it desirable to use the adjusted value? (4 pts)\n",
    "\n",
    "2. Overfitting usually happens in complex models. Linear Regression is a fairly simple model. Could overfitting happen in Linear Regression? If so, please explain the scenario in which it could happen and how we can tackle it. (6 pts)\n"
   ]
  },
  {
   "cell_type": "markdown",
   "metadata": {},
   "source": [
    "### Answers\n",
    "\n",
    "#### 1. \n",
    "\n",
    "R-squared = 1 - [(Sum of squared errors of residuals from the fitted line)/(Sum of squared errors of the average line)]\n",
    "\n",
    "R-Squared (Rs) denotes the fraction/percentage variability explained by the model. Rs goes up as we add more independent variables (having both good or bad correlation with the dependent variable) as the variability explained by the fitted line would keep going up which in-turn results in residuals decreasing\n",
    "\n",
    "Adjusted R-Square (ARs) = 1 - [(1 - Rs)(N-1)/(N-p-1)]\n",
    "\n",
    "ARs is a modified version of Rs which factors in the number of independent variables(p) used in the regression. Adj R-Squared would only go up when an independent value which has good correlation with the dependent variable. If the added independent variable isn't having good correlation with the output, the ARs would be less as the denominator in the 2nd term increases\n",
    "\n",
    "Note: Rs >= ARs\n",
    "\n",
    "ARs is desirable as we are interested to get the best output accuracy with minimum number of features being used (dropping the collinear features is preferred)\n",
    "\n",
    "#### 2. \n",
    "\n",
    "Overfitting can very well happen with linear regression, it occurs when we use more independent variables which results in higher order polynomial regression equations - this thoroughly overfits to the training data and the generalization aspect of the model is lost.\n",
    "\n",
    "Lets consider a dataset which has 10 independent variables and when we fit a linear regression using all these 10 variables there is a chance of overfitting. If the number of rows are significantly high enough to explain the variability in terms of these 10 variables - there shouldn't be overfitting. However, when we have limited number of rows the variability with respect to the 10 variables isn't explained by the amount of data we have - the model would overfit with respect to these features and result in a higher R-Square which might look good but the model lost its generalization capability. Thus, making it useless for data outside the training data.\n",
    "\n",
    "In such cases, we generally need to select limited features which are more important and train the model to that the model is able to catch the signal and result in a generalized model. Other alternative is to gather enough data so that all the variable variability is explained.\n",
    "\n"
   ]
  },
  {
   "cell_type": "markdown",
   "metadata": {
    "id": "rTCBgfLxeIi5"
   },
   "source": [
    "# Question 5: Ridge/ Lasso Regression (30 pts)\n",
    "\n",
    "Use the following code to import the California housing prices dataset and linear models in python. The dataset is taken from https://www.kaggle.com/camnugent/california-housing-prices/version/1. We have removed the categorical variables and rows with missing variables to make it easier to run the models."
   ]
  },
  {
   "cell_type": "markdown",
   "metadata": {
    "id": "naMH3EMCm1cA"
   },
   "source": [
    "The data pertains to the houses found in a given California district and some summary stats about them based on the 1990 census data. The columns are as follows:\n",
    "\n",
    "longitude\n",
    "\n",
    "latitude\n",
    "\n",
    "housingmedianage\n",
    "\n",
    "total_rooms\n",
    "\n",
    "total_bedrooms\n",
    "\n",
    "population\n",
    "\n",
    "households\n",
    "\n",
    "median_income\n",
    "\n",
    "medianhousevalue\n",
    "\n",
    "ocean_proximity (this feature has been removed from the csv file since it is an ordinal variable)"
   ]
  },
  {
   "cell_type": "code",
   "execution_count": 1,
   "metadata": {
    "ExecuteTime": {
     "end_time": "2022-09-07T13:30:51.079540Z",
     "start_time": "2022-09-07T13:30:51.070167Z"
    },
    "colab": {
     "base_uri": "https://localhost:8080/",
     "height": 56,
     "resources": {
      "http://localhost:8080/nbextensions/google.colab/files.js": {
       "data": "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",
       "headers": [
        [
         "content-type",
         "application/javascript"
        ]
       ],
       "ok": true,
       "status": 200,
       "status_text": ""
      }
     }
    },
    "id": "PsOjDoYQegUZ",
    "outputId": "604ebbc7-c61e-4ace-9faa-3f46b3b30a9f"
   },
   "outputs": [],
   "source": [
    "# # Only use this code block if you are using Google Colab.\n",
    "# # If you are using Jupyter Notebook, please ignore this code block. You can directly upload the file to your Jupyter Notebook file systems.\n",
    "# from google.colab import files\n",
    "\n",
    "# ## It will prompt you to select a local file. Click on “Choose Files” then select and upload the file. \n",
    "# ## Wait for the file to be 100% uploaded. You should see the name of the file once Colab has uploaded it.\n",
    "# uploaded = files.upload()"
   ]
  },
  {
   "cell_type": "code",
   "execution_count": 7,
   "metadata": {
    "ExecuteTime": {
     "end_time": "2022-09-07T13:31:33.160467Z",
     "start_time": "2022-09-07T13:31:33.128265Z"
    },
    "id": "Qhv7UoyilbDV"
   },
   "outputs": [],
   "source": [
    "from sklearn import linear_model\n",
    "from sklearn.metrics import mean_absolute_error\n",
    "import numpy as np\n",
    "import pandas as pd\n",
    "from sklearn.metrics import mean_absolute_error, mean_squared_error\n",
    "import random\n",
    "from sklearn import linear_model,preprocessing\n",
    "from sklearn.preprocessing import StandardScaler\n",
    "pd.options.mode.chained_assignment = None\n",
    "\n",
    "\n",
    "df = pd.read_csv(\"housing_data.csv\")\n",
    "X = df.drop(['median_house_value'],axis=1)\n",
    "Y = df['median_house_value']"
   ]
  },
  {
   "cell_type": "code",
   "execution_count": 8,
   "metadata": {
    "ExecuteTime": {
     "end_time": "2022-09-07T13:31:33.166029Z",
     "start_time": "2022-09-07T13:31:33.163030Z"
    },
    "colab": {
     "base_uri": "https://localhost:8080/"
    },
    "id": "CTiUIITYezts",
    "outputId": "82a0383b-f064-44f1-9ab8-ed196cf9d44f"
   },
   "outputs": [
    {
     "name": "stdout",
     "output_type": "stream",
     "text": [
      "Index(['longitude', 'latitude', 'housing_median_age', 'total_rooms',\n",
      "       'total_bedrooms', 'population', 'households', 'median_income',\n",
      "       'median_house_value'],\n",
      "      dtype='object')\n",
      "15324.75\n"
     ]
    }
   ],
   "source": [
    "print(df.columns)\n",
    "print(df.shape[0]*0.75)# Show you all the columns in this file"
   ]
  },
  {
   "cell_type": "code",
   "execution_count": 9,
   "metadata": {
    "ExecuteTime": {
     "end_time": "2022-09-07T13:31:33.177092Z",
     "start_time": "2022-09-07T13:31:33.167395Z"
    },
    "colab": {
     "base_uri": "https://localhost:8080/",
     "height": 206
    },
    "id": "li4lFm55fEPg",
    "outputId": "7e8cdc45-720f-4a6f-84af-2992d62fe744"
   },
   "outputs": [
    {
     "data": {
      "text/html": [
       "<div>\n",
       "<style scoped>\n",
       "    .dataframe tbody tr th:only-of-type {\n",
       "        vertical-align: middle;\n",
       "    }\n",
       "\n",
       "    .dataframe tbody tr th {\n",
       "        vertical-align: top;\n",
       "    }\n",
       "\n",
       "    .dataframe thead th {\n",
       "        text-align: right;\n",
       "    }\n",
       "</style>\n",
       "<table border=\"1\" class=\"dataframe\">\n",
       "  <thead>\n",
       "    <tr style=\"text-align: right;\">\n",
       "      <th></th>\n",
       "      <th>longitude</th>\n",
       "      <th>latitude</th>\n",
       "      <th>housing_median_age</th>\n",
       "      <th>total_rooms</th>\n",
       "      <th>total_bedrooms</th>\n",
       "      <th>population</th>\n",
       "      <th>households</th>\n",
       "      <th>median_income</th>\n",
       "      <th>median_house_value</th>\n",
       "    </tr>\n",
       "  </thead>\n",
       "  <tbody>\n",
       "    <tr>\n",
       "      <th>0</th>\n",
       "      <td>-122.23</td>\n",
       "      <td>37.88</td>\n",
       "      <td>41.0</td>\n",
       "      <td>880.0</td>\n",
       "      <td>129.0</td>\n",
       "      <td>322.0</td>\n",
       "      <td>126.0</td>\n",
       "      <td>8.3252</td>\n",
       "      <td>452600.0</td>\n",
       "    </tr>\n",
       "    <tr>\n",
       "      <th>1</th>\n",
       "      <td>-122.22</td>\n",
       "      <td>37.86</td>\n",
       "      <td>21.0</td>\n",
       "      <td>7099.0</td>\n",
       "      <td>1106.0</td>\n",
       "      <td>2401.0</td>\n",
       "      <td>1138.0</td>\n",
       "      <td>8.3014</td>\n",
       "      <td>358500.0</td>\n",
       "    </tr>\n",
       "    <tr>\n",
       "      <th>2</th>\n",
       "      <td>-122.24</td>\n",
       "      <td>37.85</td>\n",
       "      <td>52.0</td>\n",
       "      <td>1467.0</td>\n",
       "      <td>190.0</td>\n",
       "      <td>496.0</td>\n",
       "      <td>177.0</td>\n",
       "      <td>7.2574</td>\n",
       "      <td>352100.0</td>\n",
       "    </tr>\n",
       "    <tr>\n",
       "      <th>3</th>\n",
       "      <td>-122.25</td>\n",
       "      <td>37.85</td>\n",
       "      <td>52.0</td>\n",
       "      <td>1274.0</td>\n",
       "      <td>235.0</td>\n",
       "      <td>558.0</td>\n",
       "      <td>219.0</td>\n",
       "      <td>5.6431</td>\n",
       "      <td>341300.0</td>\n",
       "    </tr>\n",
       "    <tr>\n",
       "      <th>4</th>\n",
       "      <td>-122.25</td>\n",
       "      <td>37.85</td>\n",
       "      <td>52.0</td>\n",
       "      <td>1627.0</td>\n",
       "      <td>280.0</td>\n",
       "      <td>565.0</td>\n",
       "      <td>259.0</td>\n",
       "      <td>3.8462</td>\n",
       "      <td>342200.0</td>\n",
       "    </tr>\n",
       "  </tbody>\n",
       "</table>\n",
       "</div>"
      ],
      "text/plain": [
       "   longitude  latitude  housing_median_age  total_rooms  total_bedrooms  \\\n",
       "0    -122.23     37.88                41.0        880.0           129.0   \n",
       "1    -122.22     37.86                21.0       7099.0          1106.0   \n",
       "2    -122.24     37.85                52.0       1467.0           190.0   \n",
       "3    -122.25     37.85                52.0       1274.0           235.0   \n",
       "4    -122.25     37.85                52.0       1627.0           280.0   \n",
       "\n",
       "   population  households  median_income  median_house_value  \n",
       "0       322.0       126.0         8.3252            452600.0  \n",
       "1      2401.0      1138.0         8.3014            358500.0  \n",
       "2       496.0       177.0         7.2574            352100.0  \n",
       "3       558.0       219.0         5.6431            341300.0  \n",
       "4       565.0       259.0         3.8462            342200.0  "
      ]
     },
     "execution_count": 9,
     "metadata": {},
     "output_type": "execute_result"
    }
   ],
   "source": [
    "df.head() # Show you the first 5 rows in this file"
   ]
  },
  {
   "cell_type": "markdown",
   "metadata": {},
   "source": [
    "**1) Split the data into a training set (75% of data) and a test set (25% of data), using the train_test_split function with random_state = 50. Then scale the data (not including target) so that each of the independent variables would have zero mean and unit variance. You can use the sklearn.preprocessing.scale function for this. Print the first 5 rows of the training set after scaling. (2 pts)**\n"
   ]
  },
  {
   "cell_type": "code",
   "execution_count": 10,
   "metadata": {
    "ExecuteTime": {
     "end_time": "2022-09-07T13:31:33.194268Z",
     "start_time": "2022-09-07T13:31:33.178559Z"
    }
   },
   "outputs": [
    {
     "name": "stdout",
     "output_type": "stream",
     "text": [
      "(15324, 8) (5109, 8)\n",
      "(15324,) (5109,)\n"
     ]
    },
    {
     "data": {
      "text/plain": [
       "array([[-1.13113681,  1.91091856,  1.85290292, -0.97858972, -1.04294314,\n",
       "        -0.99407214, -1.05120862, -1.2222887 ],\n",
       "       [-1.12615029,  0.76639279, -0.92620274,  0.19946448,  0.16877038,\n",
       "         0.54845443,  0.27854331,  0.71761009],\n",
       "       [ 0.70888992, -0.7004688 ,  1.85290292, -1.02423644, -1.0022334 ,\n",
       "        -0.94920516, -1.03796408, -1.18162406],\n",
       "       [-1.21590769,  0.62157525,  1.13827575, -0.2132003 , -0.06351462,\n",
       "        -0.18915862, -0.08700602, -0.69687411],\n",
       "       [ 0.86347211, -0.70981187, -0.29097859,  0.38758429,  0.07298275,\n",
       "         0.27207387,  0.10371537,  0.51338795]])"
      ]
     },
     "execution_count": 10,
     "metadata": {},
     "output_type": "execute_result"
    }
   ],
   "source": [
    "from sklearn.model_selection import train_test_split\n",
    "X_train, X_test, Y_train, Y_test = train_test_split(X, Y, test_size=0.25, random_state=50)\n",
    "print(X_train.shape, X_test.shape)\n",
    "print(Y_train.shape, Y_test.shape)\n",
    "#X_train_scale = preprocessing.scale(X_train,axis=0,with_mean=True,with_std=True, copy = True)\n",
    "#X_test_scale = preprocessing.scale(X_test,axis=0,with_mean=True,with_std=True, copy = True)\n",
    "Y_train_log = np.log(Y_train)\n",
    "Y_test_log = np.log(Y_test)\n",
    "\n",
    "#X_train_scale[:5]\n",
    "\n",
    "\n",
    "\n",
    "# Scale the function to have zero mean and standard deviation of 1\n",
    "scaler=StandardScaler()\n",
    "\n",
    "X_train_scale = scaler.fit_transform(X_train)\n",
    "X_test_scale = scaler.transform(X_test)\n",
    "X_train_scale[:5]"
   ]
  },
  {
   "cell_type": "markdown",
   "metadata": {
    "ExecuteTime": {
     "end_time": "2022-09-03T19:42:44.997723Z",
     "start_time": "2022-09-03T19:42:44.967210Z"
    }
   },
   "source": [
    "**2) Use sklearn.linear_model.Lasso and sklearn.linear_model.Ridge classes to do a 5-fold cross validation using sklearn's KFold. For the sweep of the regularization parameter, we will look at a grid of values ranging from $α = 10^{10}$ to $α = 10^{−6}$.**\n",
    "\n",
    "**In Python, you can consider this range of values as follows: alpha = 10*numpy.linspace(6,-6,100) so that you cangenerate 100 uniform values between -6 to 6 as power series.**\n",
    "\n",
    "**Fit the 2 regression models with scaled data and report the best chosen α based on cross validation as well as the corresponding scoring metric. The cross validation should happen on your training data using MSE as the scoring metric. (5 pts)**"
   ]
  },
  {
   "cell_type": "code",
   "execution_count": 11,
   "metadata": {
    "ExecuteTime": {
     "end_time": "2022-09-07T13:31:33.199640Z",
     "start_time": "2022-09-07T13:31:33.197387Z"
    }
   },
   "outputs": [],
   "source": [
    "from sklearn.model_selection import KFold\n",
    "from sklearn.linear_model import Lasso\n",
    "from sklearn.linear_model import Ridge"
   ]
  },
  {
   "cell_type": "code",
   "execution_count": 12,
   "metadata": {
    "ExecuteTime": {
     "end_time": "2022-09-07T13:31:33.204411Z",
     "start_time": "2022-09-07T13:31:33.200876Z"
    },
    "scrolled": true
   },
   "outputs": [
    {
     "data": {
      "text/plain": [
       "KFold(n_splits=5, random_state=50, shuffle=True)"
      ]
     },
     "execution_count": 12,
     "metadata": {},
     "output_type": "execute_result"
    }
   ],
   "source": [
    "alpha_values = 10**np.linspace(6,-6,100) #Though its mentioned from α=10^10  to α=10^−6 in text, but as mentioned in the code its mentioned as α=10^10  to α=10^−6 -- going ahead with that \n",
    "\n",
    "\n",
    "\n",
    "n_cv = 5\n",
    "k = KFold(n_splits = n_cv, shuffle= True, random_state = 50)\n",
    "k\n",
    "\n"
   ]
  },
  {
   "cell_type": "code",
   "execution_count": 13,
   "metadata": {
    "ExecuteTime": {
     "end_time": "2022-09-07T13:31:47.865521Z",
     "start_time": "2022-09-07T13:31:33.205661Z"
    }
   },
   "outputs": [
    {
     "name": "stdout",
     "output_type": "stream",
     "text": [
      "For Ridge Regression, the suitable alpha value and the corresponding MSE value are:\n",
      "         alpha           MSE\n",
      "40  14.174742  4.854738e+09\n",
      "For Lasso Regression, the suitable alpha value and the corresponding MSE value are:\n",
      "         alpha           MSE\n",
      "35  57.223677  4.854856e+09\n"
     ]
    }
   ],
   "source": [
    "#Splitting training set into 5 folds, 4 folds are being used for training in each iteration \n",
    "#The fifth fold is being used for testing\n",
    "\n",
    "\n",
    "mean_ridge = []\n",
    "\n",
    "\n",
    "mean_lasso = []\n",
    "\n",
    "for a in alpha_values:\n",
    "    \n",
    "            ridge = Ridge(alpha = a)\n",
    "            lasso = Lasso(alpha = a)\n",
    "            mse_ridge = []\n",
    "            mse_lasso = []\n",
    "            for train_index, test_index in k.split(X_train_scale):\n",
    "                x_train, x_test = X_train_scale[train_index], X_train_scale[test_index]\n",
    "                y_train, y_test = Y_train.iloc[train_index], Y_train.iloc[test_index]\n",
    "\n",
    "                \n",
    "                ridge_fit = ridge.fit(x_train, y_train)\n",
    "                \n",
    "                \n",
    "                lasso_fit = lasso.fit(x_train, y_train)\n",
    "\n",
    "                mse_ridge.append(mean_squared_error(y_test, ridge_fit.predict(x_test)))\n",
    "                \n",
    "                mse_lasso.append(mean_squared_error(y_test, lasso_fit.predict(x_test)))\n",
    "\n",
    "\n",
    "            mean_ridge.append(np.average(mse_ridge))\n",
    "            \n",
    "            mean_lasso.append(np.average(mse_lasso))\n",
    "\n",
    "\n",
    "MSE_table_ridge = pd.DataFrame(zip(alpha_values, mean_ridge), columns = ['alpha','MSE'])\n",
    "MSE_table_lasso = pd.DataFrame(zip(alpha_values, mean_lasso), columns = ['alpha','MSE'])\n",
    "\n",
    "print(\"For Ridge Regression, the suitable alpha value and the corresponding MSE value are:\\n\", MSE_table_ridge[MSE_table_ridge['MSE'] == min(MSE_table_ridge['MSE'])])\n",
    "print(\"For Lasso Regression, the suitable alpha value and the corresponding MSE value are:\\n\", MSE_table_lasso[MSE_table_lasso['MSE'] == min(MSE_table_lasso['MSE'])])\n"
   ]
  },
  {
   "cell_type": "markdown",
   "metadata": {},
   "source": [
    "**3) a) Run ridge and lasso regression for all of the α specified above (on training data), and plot the coefficients learned for each of them - there should be one plot each for lasso and ridge, so a total of two plots; different features' weights of each model should be on the same plot with different colors (5 pts).**\n",
    "\n",
    "**b) What do you qualitatively observe when the value of the regularization parameter changes? (2pts)**"
   ]
  },
  {
   "cell_type": "code",
   "execution_count": 14,
   "metadata": {
    "ExecuteTime": {
     "end_time": "2022-09-07T13:31:47.868820Z",
     "start_time": "2022-09-07T13:31:47.866760Z"
    }
   },
   "outputs": [],
   "source": [
    "from sklearn.linear_model import ElasticNet"
   ]
  },
  {
   "cell_type": "code",
   "execution_count": 15,
   "metadata": {
    "ExecuteTime": {
     "end_time": "2022-09-07T13:31:51.370698Z",
     "start_time": "2022-09-07T13:31:47.869951Z"
    }
   },
   "outputs": [],
   "source": [
    "# Since the graphs are not clear, we take the log of alpha and then plot the values:\n",
    "ridge_coeff=[]\n",
    "lasso_coeff=[]\n",
    "\n",
    "\n",
    "for a in alpha_values:\n",
    "    \n",
    "                ridge = Ridge(alpha = a)\n",
    "                ridge_fit = ridge.fit(X_train_scale, Y_train)\n",
    "                ridge_coeff.append(ridge.coef_)\n",
    "                \n",
    "                lasso = Lasso(alpha = a)\n",
    "                lasso_fit = lasso.fit(X_train_scale, Y_train)\n",
    "                lasso_coeff.append(lasso.coef_)\n",
    "                \n",
    "ridge_coeff_table = pd.DataFrame(data=ridge_coeff, index=alpha_values, columns=X.columns)#Check\n",
    "lasso_coeff_table = pd.DataFrame(data=lasso_coeff, index=alpha_values, columns=X.columns)#Check\n"
   ]
  },
  {
   "cell_type": "code",
   "execution_count": 16,
   "metadata": {
    "ExecuteTime": {
     "end_time": "2022-09-07T13:31:51.373992Z",
     "start_time": "2022-09-07T13:31:51.371927Z"
    }
   },
   "outputs": [],
   "source": [
    "#ridge_coeff_table.plot(title = 'Ridge Regression Coefficients v/s Alpha', xlabel = 'alpha', ylabel = 'Coefficients')\n",
    "\n",
    "#lasso_coeff_table.plot(title = 'Lasso Regression Coefficients v/s Alpha', xlabel = 'alpha', ylabel = 'Coefficients')\n",
    "\n",
    "#Check"
   ]
  },
  {
   "cell_type": "code",
   "execution_count": 17,
   "metadata": {
    "ExecuteTime": {
     "end_time": "2022-09-07T13:31:52.292758Z",
     "start_time": "2022-09-07T13:31:51.375144Z"
    }
   },
   "outputs": [
    {
     "name": "stdout",
     "output_type": "stream",
     "text": [
      "%pylab is deprecated, use %matplotlib inline and import the required libraries.\n",
      "Populating the interactive namespace from numpy and matplotlib\n"
     ]
    },
    {
     "name": "stderr",
     "output_type": "stream",
     "text": [
      "/Users/viswatej/opt/anaconda3/lib/python3.9/site-packages/IPython/core/magics/pylab.py:162: UserWarning: pylab import has clobbered these variables: ['random']\n",
      "`%matplotlib` prevents importing * from pylab and numpy\n",
      "  warn(\"pylab import has clobbered these variables: %s\"  % clobbered +\n"
     ]
    },
    {
     "data": {
      "image/png": "[encoded data removed]",
      "text/plain": [
       "<Figure size 1440x864 with 2 Axes>"
      ]
     },
     "metadata": {
      "needs_background": "light"
     },
     "output_type": "display_data"
    }
   ],
   "source": [
    "\n",
    "%pylab inline\n",
    "\n",
    "fig, (ax1, ax2) = subplots(nrows=2,\n",
    "                                ncols=1,\n",
    "                                sharex=True,\n",
    "                                figsize=(20, 12))\n",
    "\n",
    "ax1.plot(alpha_values, ridge_coeff)\n",
    "ax1.set_xscale(\"log\")\n",
    "ax1.set_xlim(ax1.get_xlim()[::-1])# reverse axis\n",
    "ax1.set_ylabel(\"weights\")\n",
    "ax1.set_title(\"Ridge Regression Coefficients v/s Alpha\")\n",
    "ax1.set_xlabel(\"alpha\")\n",
    "ax1.axis(\"tight\")\n",
    "ax1.legend(X.columns)\n",
    "ax2.plot(alpha_values, lasso_coeff)\n",
    "ax2.set_xscale(\"log\")\n",
    "ax2.set_xlim(ax2.get_xlim()[::-1])\n",
    "ax2.set_xlabel(\"alpha\")\n",
    "ax2.set_ylabel(\"weights\")\n",
    "ax2.set_title(\"Lasso Regression Coefficients v/s Alpha\")\n",
    "ax2.axis(\"tight\")\n",
    "ax2.legend(X.columns)\n",
    "\n",
    "plt.show()"
   ]
  },
  {
   "cell_type": "markdown",
   "metadata": {
    "ExecuteTime": {
     "end_time": "2022-09-03T22:40:37.428059Z",
     "start_time": "2022-09-03T22:40:37.414079Z"
    }
   },
   "source": [
    "**Observation:**\n",
    "The coefficients of various features in ridge regression decrease gradually towards zero where as the coefficients in Lasso regression become zero very quickly. In other words, the penalty that is imposed in Lasso regression allows very few coefficients that have considerable influence and puts everything else to zero.\n",
    "\n"
   ]
  },
  {
   "cell_type": "markdown",
   "metadata": {},
   "source": [
    "#### 4) a) Similarly, use sklearn.linear_model.ElasticNet to do linear regression with different α values, and plot the coefficients learned for each of them (2 pts).\n"
   ]
  },
  {
   "cell_type": "code",
   "execution_count": 18,
   "metadata": {
    "ExecuteTime": {
     "end_time": "2022-09-07T13:31:55.257795Z",
     "start_time": "2022-09-07T13:31:52.293780Z"
    }
   },
   "outputs": [
    {
     "data": {
      "text/html": [
       "<div>\n",
       "<style scoped>\n",
       "    .dataframe tbody tr th:only-of-type {\n",
       "        vertical-align: middle;\n",
       "    }\n",
       "\n",
       "    .dataframe tbody tr th {\n",
       "        vertical-align: top;\n",
       "    }\n",
       "\n",
       "    .dataframe thead th {\n",
       "        text-align: right;\n",
       "    }\n",
       "</style>\n",
       "<table border=\"1\" class=\"dataframe\">\n",
       "  <thead>\n",
       "    <tr style=\"text-align: right;\">\n",
       "      <th></th>\n",
       "      <th>longitude</th>\n",
       "      <th>latitude</th>\n",
       "      <th>housing_median_age</th>\n",
       "      <th>total_rooms</th>\n",
       "      <th>total_bedrooms</th>\n",
       "      <th>population</th>\n",
       "      <th>households</th>\n",
       "      <th>median_income</th>\n",
       "    </tr>\n",
       "  </thead>\n",
       "  <tbody>\n",
       "    <tr>\n",
       "      <th>1000000.000000</th>\n",
       "      <td>-0.000000</td>\n",
       "      <td>-0.000000</td>\n",
       "      <td>0.000000</td>\n",
       "      <td>0.000000</td>\n",
       "      <td>0.000000</td>\n",
       "      <td>-0.000000</td>\n",
       "      <td>0.000000</td>\n",
       "      <td>0.000000</td>\n",
       "    </tr>\n",
       "    <tr>\n",
       "      <th>756463.327555</th>\n",
       "      <td>-0.000000</td>\n",
       "      <td>-0.000000</td>\n",
       "      <td>0.000000</td>\n",
       "      <td>0.000000</td>\n",
       "      <td>0.000000</td>\n",
       "      <td>-0.000000</td>\n",
       "      <td>0.000000</td>\n",
       "      <td>0.000000</td>\n",
       "    </tr>\n",
       "    <tr>\n",
       "      <th>572236.765935</th>\n",
       "      <td>-0.000000</td>\n",
       "      <td>-0.000000</td>\n",
       "      <td>0.000000</td>\n",
       "      <td>0.000000</td>\n",
       "      <td>0.000000</td>\n",
       "      <td>-0.000000</td>\n",
       "      <td>0.000000</td>\n",
       "      <td>0.000000</td>\n",
       "    </tr>\n",
       "    <tr>\n",
       "      <th>432876.128108</th>\n",
       "      <td>-0.000000</td>\n",
       "      <td>-0.000000</td>\n",
       "      <td>0.000000</td>\n",
       "      <td>0.000000</td>\n",
       "      <td>0.000000</td>\n",
       "      <td>-0.000000</td>\n",
       "      <td>0.000000</td>\n",
       "      <td>0.000000</td>\n",
       "    </tr>\n",
       "    <tr>\n",
       "      <th>327454.916288</th>\n",
       "      <td>-0.000000</td>\n",
       "      <td>-0.000000</td>\n",
       "      <td>0.000000</td>\n",
       "      <td>0.000000</td>\n",
       "      <td>0.000000</td>\n",
       "      <td>-0.000000</td>\n",
       "      <td>0.000000</td>\n",
       "      <td>0.000000</td>\n",
       "    </tr>\n",
       "    <tr>\n",
       "      <th>...</th>\n",
       "      <td>...</td>\n",
       "      <td>...</td>\n",
       "      <td>...</td>\n",
       "      <td>...</td>\n",
       "      <td>...</td>\n",
       "      <td>...</td>\n",
       "      <td>...</td>\n",
       "      <td>...</td>\n",
       "    </tr>\n",
       "    <tr>\n",
       "      <th>0.000003</th>\n",
       "      <td>-85072.200719</td>\n",
       "      <td>-90014.953072</td>\n",
       "      <td>15059.688730</td>\n",
       "      <td>-19409.755267</td>\n",
       "      <td>46601.626189</td>\n",
       "      <td>-41939.864540</td>\n",
       "      <td>19481.362755</td>\n",
       "      <td>76502.539149</td>\n",
       "    </tr>\n",
       "    <tr>\n",
       "      <th>0.000002</th>\n",
       "      <td>-85072.690133</td>\n",
       "      <td>-90015.437048</td>\n",
       "      <td>15059.641962</td>\n",
       "      <td>-19409.924990</td>\n",
       "      <td>46602.164949</td>\n",
       "      <td>-41939.924826</td>\n",
       "      <td>19481.032909</td>\n",
       "      <td>76502.557785</td>\n",
       "    </tr>\n",
       "    <tr>\n",
       "      <th>0.000002</th>\n",
       "      <td>-85073.060361</td>\n",
       "      <td>-90015.803162</td>\n",
       "      <td>15059.606584</td>\n",
       "      <td>-19410.053383</td>\n",
       "      <td>46602.572516</td>\n",
       "      <td>-41939.970428</td>\n",
       "      <td>19480.783380</td>\n",
       "      <td>76502.571883</td>\n",
       "    </tr>\n",
       "    <tr>\n",
       "      <th>0.000001</th>\n",
       "      <td>-85073.340427</td>\n",
       "      <td>-90016.080117</td>\n",
       "      <td>15059.579822</td>\n",
       "      <td>-19410.150509</td>\n",
       "      <td>46602.880833</td>\n",
       "      <td>-41940.004922</td>\n",
       "      <td>19480.594612</td>\n",
       "      <td>76502.582547</td>\n",
       "    </tr>\n",
       "    <tr>\n",
       "      <th>0.000001</th>\n",
       "      <td>-85073.552289</td>\n",
       "      <td>-90016.289624</td>\n",
       "      <td>15059.559577</td>\n",
       "      <td>-19410.223982</td>\n",
       "      <td>46603.114069</td>\n",
       "      <td>-41940.031016</td>\n",
       "      <td>19480.451811</td>\n",
       "      <td>76502.590615</td>\n",
       "    </tr>\n",
       "  </tbody>\n",
       "</table>\n",
       "<p>100 rows × 8 columns</p>\n",
       "</div>"
      ],
      "text/plain": [
       "                   longitude      latitude  housing_median_age   total_rooms  \\\n",
       "1000000.000000     -0.000000     -0.000000            0.000000      0.000000   \n",
       "756463.327555      -0.000000     -0.000000            0.000000      0.000000   \n",
       "572236.765935      -0.000000     -0.000000            0.000000      0.000000   \n",
       "432876.128108      -0.000000     -0.000000            0.000000      0.000000   \n",
       "327454.916288      -0.000000     -0.000000            0.000000      0.000000   \n",
       "...                      ...           ...                 ...           ...   \n",
       "0.000003       -85072.200719 -90014.953072        15059.688730 -19409.755267   \n",
       "0.000002       -85072.690133 -90015.437048        15059.641962 -19409.924990   \n",
       "0.000002       -85073.060361 -90015.803162        15059.606584 -19410.053383   \n",
       "0.000001       -85073.340427 -90016.080117        15059.579822 -19410.150509   \n",
       "0.000001       -85073.552289 -90016.289624        15059.559577 -19410.223982   \n",
       "\n",
       "                total_bedrooms    population    households  median_income  \n",
       "1000000.000000        0.000000     -0.000000      0.000000       0.000000  \n",
       "756463.327555         0.000000     -0.000000      0.000000       0.000000  \n",
       "572236.765935         0.000000     -0.000000      0.000000       0.000000  \n",
       "432876.128108         0.000000     -0.000000      0.000000       0.000000  \n",
       "327454.916288         0.000000     -0.000000      0.000000       0.000000  \n",
       "...                        ...           ...           ...            ...  \n",
       "0.000003          46601.626189 -41939.864540  19481.362755   76502.539149  \n",
       "0.000002          46602.164949 -41939.924826  19481.032909   76502.557785  \n",
       "0.000002          46602.572516 -41939.970428  19480.783380   76502.571883  \n",
       "0.000001          46602.880833 -41940.004922  19480.594612   76502.582547  \n",
       "0.000001          46603.114069 -41940.031016  19480.451811   76502.590615  \n",
       "\n",
       "[100 rows x 8 columns]"
      ]
     },
     "execution_count": 18,
     "metadata": {},
     "output_type": "execute_result"
    }
   ],
   "source": [
    "from sklearn.linear_model import ElasticNet\n",
    "\n",
    "elastic_lm_coeff=[]\n",
    "\n",
    "\n",
    "for a in alpha_values:\n",
    "    \n",
    "                elastic_lm = ElasticNet(alpha = a)\n",
    "                elastic_lm_fit = elastic_lm.fit(X_train_scale, Y_train)\n",
    "                elastic_lm_coeff.append(elastic_lm.coef_)\n",
    "                \n",
    "                \n",
    "                \n",
    "\n",
    "elastic_lm_coeff_table = pd.DataFrame(data=elastic_lm_coeff, index=alpha_values, columns=X.columns)\n",
    "elastic_lm_coeff_table"
   ]
  },
  {
   "cell_type": "code",
   "execution_count": 19,
   "metadata": {
    "ExecuteTime": {
     "end_time": "2022-09-07T13:31:55.271036Z",
     "start_time": "2022-09-07T13:31:55.260220Z"
    }
   },
   "outputs": [
    {
     "data": {
      "text/html": [
       "<div>\n",
       "<style scoped>\n",
       "    .dataframe tbody tr th:only-of-type {\n",
       "        vertical-align: middle;\n",
       "    }\n",
       "\n",
       "    .dataframe tbody tr th {\n",
       "        vertical-align: top;\n",
       "    }\n",
       "\n",
       "    .dataframe thead th {\n",
       "        text-align: right;\n",
       "    }\n",
       "</style>\n",
       "<table border=\"1\" class=\"dataframe\">\n",
       "  <thead>\n",
       "    <tr style=\"text-align: right;\">\n",
       "      <th></th>\n",
       "      <th>alpha</th>\n",
       "      <th>longitude</th>\n",
       "      <th>latitude</th>\n",
       "      <th>housing_median_age</th>\n",
       "      <th>total_rooms</th>\n",
       "      <th>total_bedrooms</th>\n",
       "      <th>population</th>\n",
       "      <th>households</th>\n",
       "      <th>median_income</th>\n",
       "    </tr>\n",
       "    <tr>\n",
       "      <th>log_alpha</th>\n",
       "      <th></th>\n",
       "      <th></th>\n",
       "      <th></th>\n",
       "      <th></th>\n",
       "      <th></th>\n",
       "      <th></th>\n",
       "      <th></th>\n",
       "      <th></th>\n",
       "      <th></th>\n",
       "    </tr>\n",
       "  </thead>\n",
       "  <tbody>\n",
       "    <tr>\n",
       "      <th>6.000000</th>\n",
       "      <td>1000000.000000</td>\n",
       "      <td>-0.000000</td>\n",
       "      <td>-0.000000</td>\n",
       "      <td>0.000000</td>\n",
       "      <td>0.000000</td>\n",
       "      <td>0.000000</td>\n",
       "      <td>-0.000000</td>\n",
       "      <td>0.000000</td>\n",
       "      <td>0.000000</td>\n",
       "    </tr>\n",
       "    <tr>\n",
       "      <th>5.878788</th>\n",
       "      <td>756463.327555</td>\n",
       "      <td>-0.000000</td>\n",
       "      <td>-0.000000</td>\n",
       "      <td>0.000000</td>\n",
       "      <td>0.000000</td>\n",
       "      <td>0.000000</td>\n",
       "      <td>-0.000000</td>\n",
       "      <td>0.000000</td>\n",
       "      <td>0.000000</td>\n",
       "    </tr>\n",
       "    <tr>\n",
       "      <th>5.757576</th>\n",
       "      <td>572236.765935</td>\n",
       "      <td>-0.000000</td>\n",
       "      <td>-0.000000</td>\n",
       "      <td>0.000000</td>\n",
       "      <td>0.000000</td>\n",
       "      <td>0.000000</td>\n",
       "      <td>-0.000000</td>\n",
       "      <td>0.000000</td>\n",
       "      <td>0.000000</td>\n",
       "    </tr>\n",
       "    <tr>\n",
       "      <th>5.636364</th>\n",
       "      <td>432876.128108</td>\n",
       "      <td>-0.000000</td>\n",
       "      <td>-0.000000</td>\n",
       "      <td>0.000000</td>\n",
       "      <td>0.000000</td>\n",
       "      <td>0.000000</td>\n",
       "      <td>-0.000000</td>\n",
       "      <td>0.000000</td>\n",
       "      <td>0.000000</td>\n",
       "    </tr>\n",
       "    <tr>\n",
       "      <th>5.515152</th>\n",
       "      <td>327454.916288</td>\n",
       "      <td>-0.000000</td>\n",
       "      <td>-0.000000</td>\n",
       "      <td>0.000000</td>\n",
       "      <td>0.000000</td>\n",
       "      <td>0.000000</td>\n",
       "      <td>-0.000000</td>\n",
       "      <td>0.000000</td>\n",
       "      <td>0.000000</td>\n",
       "    </tr>\n",
       "    <tr>\n",
       "      <th>...</th>\n",
       "      <td>...</td>\n",
       "      <td>...</td>\n",
       "      <td>...</td>\n",
       "      <td>...</td>\n",
       "      <td>...</td>\n",
       "      <td>...</td>\n",
       "      <td>...</td>\n",
       "      <td>...</td>\n",
       "      <td>...</td>\n",
       "    </tr>\n",
       "    <tr>\n",
       "      <th>-5.515152</th>\n",
       "      <td>0.000003</td>\n",
       "      <td>-85072.200719</td>\n",
       "      <td>-90014.953072</td>\n",
       "      <td>15059.688730</td>\n",
       "      <td>-19409.755267</td>\n",
       "      <td>46601.626189</td>\n",
       "      <td>-41939.864540</td>\n",
       "      <td>19481.362755</td>\n",
       "      <td>76502.539149</td>\n",
       "    </tr>\n",
       "    <tr>\n",
       "      <th>-5.636364</th>\n",
       "      <td>0.000002</td>\n",
       "      <td>-85072.690133</td>\n",
       "      <td>-90015.437048</td>\n",
       "      <td>15059.641962</td>\n",
       "      <td>-19409.924990</td>\n",
       "      <td>46602.164949</td>\n",
       "      <td>-41939.924826</td>\n",
       "      <td>19481.032909</td>\n",
       "      <td>76502.557785</td>\n",
       "    </tr>\n",
       "    <tr>\n",
       "      <th>-5.757576</th>\n",
       "      <td>0.000002</td>\n",
       "      <td>-85073.060361</td>\n",
       "      <td>-90015.803162</td>\n",
       "      <td>15059.606584</td>\n",
       "      <td>-19410.053383</td>\n",
       "      <td>46602.572516</td>\n",
       "      <td>-41939.970428</td>\n",
       "      <td>19480.783380</td>\n",
       "      <td>76502.571883</td>\n",
       "    </tr>\n",
       "    <tr>\n",
       "      <th>-5.878788</th>\n",
       "      <td>0.000001</td>\n",
       "      <td>-85073.340427</td>\n",
       "      <td>-90016.080117</td>\n",
       "      <td>15059.579822</td>\n",
       "      <td>-19410.150509</td>\n",
       "      <td>46602.880833</td>\n",
       "      <td>-41940.004922</td>\n",
       "      <td>19480.594612</td>\n",
       "      <td>76502.582547</td>\n",
       "    </tr>\n",
       "    <tr>\n",
       "      <th>-6.000000</th>\n",
       "      <td>0.000001</td>\n",
       "      <td>-85073.552289</td>\n",
       "      <td>-90016.289624</td>\n",
       "      <td>15059.559577</td>\n",
       "      <td>-19410.223982</td>\n",
       "      <td>46603.114069</td>\n",
       "      <td>-41940.031016</td>\n",
       "      <td>19480.451811</td>\n",
       "      <td>76502.590615</td>\n",
       "    </tr>\n",
       "  </tbody>\n",
       "</table>\n",
       "<p>100 rows × 9 columns</p>\n",
       "</div>"
      ],
      "text/plain": [
       "                    alpha     longitude      latitude  housing_median_age  \\\n",
       "log_alpha                                                                   \n",
       " 6.000000  1000000.000000     -0.000000     -0.000000            0.000000   \n",
       " 5.878788   756463.327555     -0.000000     -0.000000            0.000000   \n",
       " 5.757576   572236.765935     -0.000000     -0.000000            0.000000   \n",
       " 5.636364   432876.128108     -0.000000     -0.000000            0.000000   \n",
       " 5.515152   327454.916288     -0.000000     -0.000000            0.000000   \n",
       "...                   ...           ...           ...                 ...   \n",
       "-5.515152        0.000003 -85072.200719 -90014.953072        15059.688730   \n",
       "-5.636364        0.000002 -85072.690133 -90015.437048        15059.641962   \n",
       "-5.757576        0.000002 -85073.060361 -90015.803162        15059.606584   \n",
       "-5.878788        0.000001 -85073.340427 -90016.080117        15059.579822   \n",
       "-6.000000        0.000001 -85073.552289 -90016.289624        15059.559577   \n",
       "\n",
       "            total_rooms  total_bedrooms    population    households  \\\n",
       "log_alpha                                                             \n",
       " 6.000000      0.000000        0.000000     -0.000000      0.000000   \n",
       " 5.878788      0.000000        0.000000     -0.000000      0.000000   \n",
       " 5.757576      0.000000        0.000000     -0.000000      0.000000   \n",
       " 5.636364      0.000000        0.000000     -0.000000      0.000000   \n",
       " 5.515152      0.000000        0.000000     -0.000000      0.000000   \n",
       "...                 ...             ...           ...           ...   \n",
       "-5.515152 -19409.755267    46601.626189 -41939.864540  19481.362755   \n",
       "-5.636364 -19409.924990    46602.164949 -41939.924826  19481.032909   \n",
       "-5.757576 -19410.053383    46602.572516 -41939.970428  19480.783380   \n",
       "-5.878788 -19410.150509    46602.880833 -41940.004922  19480.594612   \n",
       "-6.000000 -19410.223982    46603.114069 -41940.031016  19480.451811   \n",
       "\n",
       "           median_income  \n",
       "log_alpha                 \n",
       " 6.000000       0.000000  \n",
       " 5.878788       0.000000  \n",
       " 5.757576       0.000000  \n",
       " 5.636364       0.000000  \n",
       " 5.515152       0.000000  \n",
       "...                  ...  \n",
       "-5.515152   76502.539149  \n",
       "-5.636364   76502.557785  \n",
       "-5.757576   76502.571883  \n",
       "-5.878788   76502.582547  \n",
       "-6.000000   76502.590615  \n",
       "\n",
       "[100 rows x 9 columns]"
      ]
     },
     "execution_count": 19,
     "metadata": {},
     "output_type": "execute_result"
    }
   ],
   "source": [
    "elastic_lm_coeff_table.reset_index(inplace = True)\n",
    "elastic_lm_coeff_table.rename(columns = {\"index\" : \"alpha\"}, inplace= True)\n",
    "\n",
    "elastic_lm_coeff_table['log_alpha'] = np.log10(elastic_lm_coeff_table['alpha'])\n",
    "elastic_lm_coeff_table.set_index('log_alpha', inplace = True)\n",
    "elastic_lm_coeff_table"
   ]
  },
  {
   "cell_type": "code",
   "execution_count": 20,
   "metadata": {
    "ExecuteTime": {
     "end_time": "2022-09-07T13:31:55.282327Z",
     "start_time": "2022-09-07T13:31:55.277807Z"
    }
   },
   "outputs": [
    {
     "data": {
      "text/plain": [
       "Index(['longitude', 'latitude', 'housing_median_age', 'total_rooms',\n",
       "       'total_bedrooms', 'population', 'households', 'median_income'],\n",
       "      dtype='object')"
      ]
     },
     "execution_count": 20,
     "metadata": {},
     "output_type": "execute_result"
    }
   ],
   "source": [
    "X.columns"
   ]
  },
  {
   "cell_type": "code",
   "execution_count": 21,
   "metadata": {
    "ExecuteTime": {
     "end_time": "2022-09-07T13:31:55.437942Z",
     "start_time": "2022-09-07T13:31:55.284523Z"
    }
   },
   "outputs": [
    {
     "data": {
      "text/plain": [
       "<AxesSubplot:title={'center':'Linear Regression Coefficients v/s Log of Alpha'}, xlabel='log of alpha', ylabel='Coefficients'>"
      ]
     },
     "execution_count": 21,
     "metadata": {},
     "output_type": "execute_result"
    },
    {
     "data": {
      "image/png": "[encoded data removed]",
      "text/plain": [
       "<Figure size 1440x720 with 1 Axes>"
      ]
     },
     "metadata": {
      "needs_background": "light"
     },
     "output_type": "display_data"
    }
   ],
   "source": [
    "elastic_lm_coeff_table[['longitude', 'latitude', 'housing_median_age', 'total_rooms',\n",
    "       'total_bedrooms', 'population', 'households', 'median_income']].plot(title = 'Linear Regression Coefficients v/s Log of Alpha', xlabel = 'log of alpha', ylabel = 'Coefficients',figsize=(20,10))\n"
   ]
  },
  {
   "cell_type": "markdown",
   "metadata": {},
   "source": [
    "#### B)**Observe the plot, then explain the pros and cons of ridge, lasso and Elastic Net models (3pts).**"
   ]
  },
  {
   "cell_type": "markdown",
   "metadata": {},
   "source": [
    "**Ridge Regression:**\n",
    "\n",
    "Pros:\n",
    "\n",
    "1) It helps to reduce the complexity of the model as compared to unregularized Linear Regression by pushing some coefficients close to 0.\n",
    "\n",
    "2) It helps to avoid the problem of overfitting\n",
    "\n",
    "\n",
    "Cons:\n",
    "\n",
    "1) It makes the model less interpretable\n",
    "\n",
    "2) It also increases the bias of the model"
   ]
  },
  {
   "cell_type": "markdown",
   "metadata": {},
   "source": [
    "**Lasso Regression:**\n",
    "\n",
    "Pros:\n",
    "\n",
    "1) Lasso Regression helps in selecting features by shrinking unnecessary coefficients to 0.\n",
    "\n",
    "2) It helps in reducing the complexity of the model and thereby avoid overfitting.\n",
    "\n",
    "\n",
    "Cons:\n",
    "\n",
    "1) It makes the model biased\n",
    "\n",
    "2) For a group of correlated variables, feauture selection can be arbitrary.\n"
   ]
  },
  {
   "cell_type": "markdown",
   "metadata": {},
   "source": [
    "**Elastic Net:**\n",
    "\n",
    "Pros:\n",
    "\n",
    "1) It helps to reduce the complexity of the model as compared to Linear Regression.\n",
    "\n",
    "2) It helps to avoid the problem of overfitting\n",
    "\n",
    "3) It works well for highly correlated predictors\n",
    "\n",
    "Cons:\n",
    "\n",
    "1) It makes the model biased\n",
    "\n",
    "\n",
    "2) It has high computational cost\n",
    "\n"
   ]
  },
  {
   "cell_type": "markdown",
   "metadata": {},
   "source": [
    "#### 5) Run the following three regression models with MSE loss on the training data (5 pts): \n",
    "\n",
    "#### a) linear regression without regularization (1pts)\n",
    "\n"
   ]
  },
  {
   "cell_type": "code",
   "execution_count": 22,
   "metadata": {
    "ExecuteTime": {
     "end_time": "2022-09-07T13:31:55.454329Z",
     "start_time": "2022-09-07T13:31:55.439737Z"
    }
   },
   "outputs": [
    {
     "name": "stdout",
     "output_type": "stream",
     "text": [
      "For Linear Model, the MSE on train data is:  4831534611.15846 and MSE and R2 for test data is:  4861014374.69444 & 0.63847\n"
     ]
    }
   ],
   "source": [
    "\n",
    "from sklearn.linear_model import LinearRegression\n",
    "from sklearn.metrics import r2_score\n",
    "\n",
    "LR = LinearRegression()\n",
    "LR_fit = LR.fit(X_train_scale, Y_train)\n",
    "mse_lr_train = mean_squared_error(Y_train, LR_fit.predict(X_train_scale))\n",
    "mse_lr_test =  mean_squared_error(Y_test, LR_fit.predict(X_test_scale))\n",
    "r2_score_lm = r2_score(Y_test, LR_fit.predict(X_test_scale))\n",
    "                                  \n",
    "\n",
    "print(\"For Linear Model, the MSE on train data is: \", round(mse_lr_train,5), \"and MSE and R2 for test data is: \",round(mse_lr_test,5), \"&\", round(r2_score_lm,5))  \n",
    "\n"
   ]
  },
  {
   "cell_type": "markdown",
   "metadata": {},
   "source": [
    "**b. Linear Regression with Ridge Regularization**\n",
    "\n"
   ]
  },
  {
   "cell_type": "code",
   "execution_count": 23,
   "metadata": {
    "ExecuteTime": {
     "end_time": "2022-09-07T13:31:55.462829Z",
     "start_time": "2022-09-07T13:31:55.455701Z"
    }
   },
   "outputs": [
    {
     "name": "stdout",
     "output_type": "stream",
     "text": [
      "For Ridge Model, the MSE on train data is:  4831778838.59341 and MSE and R2 for test data is:  4862151346.4213 & 0.63839\n"
     ]
    }
   ],
   "source": [
    "ridge = Ridge(alpha = 14.174742)\n",
    "ridge_fit = ridge.fit(X_train_scale, Y_train)\n",
    "mse_ridge_train = mean_squared_error(Y_train, ridge_fit.predict(X_train_scale))\n",
    "mse_ridge_test =  mean_squared_error(Y_test, ridge_fit.predict(X_test_scale))               \n",
    "r2_score_ridge= r2_score(Y_test, ridge_fit.predict(X_test_scale))\n",
    "\n",
    "print(\"For Ridge Model, the MSE on train data is: \", round(mse_ridge_train,5), \"and MSE and R2 for test data is: \",round(mse_ridge_test,5), \"&\", round(r2_score_ridge,5))  "
   ]
  },
  {
   "cell_type": "markdown",
   "metadata": {},
   "source": [
    "**c. Linear Regression with Lasso Regularization**"
   ]
  },
  {
   "cell_type": "code",
   "execution_count": 24,
   "metadata": {
    "ExecuteTime": {
     "end_time": "2022-09-07T13:31:55.496393Z",
     "start_time": "2022-09-07T13:31:55.464541Z"
    }
   },
   "outputs": [
    {
     "name": "stdout",
     "output_type": "stream",
     "text": [
      "For Lasso Model, the MSE on train data is:  4831778453.58444 and MSE and R2 for test data is:  4861064406.49607 & 0.63847\n"
     ]
    }
   ],
   "source": [
    "lasso = Lasso(alpha = 57.223677)\n",
    "lasso_fit = lasso.fit(X_train_scale, Y_train)\n",
    "mse_lasso_train = mean_squared_error(Y_train, lasso_fit.predict(X_train_scale))\n",
    "mse_lasso_test =  mean_squared_error(Y_test, lasso_fit.predict(X_test_scale))  \n",
    "r2_score_lasso = r2_score(Y_test, lasso_fit.predict(X_test_scale))\n",
    "\n",
    "print(\"For Lasso Model, the MSE on train data is: \", round(mse_lasso_train,5), \"and MSE and R2 for test data is: \",round(mse_lasso_test,5), \"&\", round(r2_score_lasso,5))  "
   ]
  },
  {
   "cell_type": "markdown",
   "metadata": {
    "id": "V39QgNuEfR6q"
   },
   "source": [
    "\n",
    "\n",
    "**6) Train the 3 models and report metrics with the original data without scaling (3pts)**\n",
    "\n"
   ]
  },
  {
   "cell_type": "code",
   "execution_count": 25,
   "metadata": {
    "ExecuteTime": {
     "end_time": "2022-09-07T13:31:55.625786Z",
     "start_time": "2022-09-07T13:31:55.497901Z"
    },
    "scrolled": true
   },
   "outputs": [
    {
     "name": "stdout",
     "output_type": "stream",
     "text": [
      "For Linear Model, the MSE on train data is:  4831534611.15846 and MSE and R2 for test data is:  4861014374.6945 & 0.63847\n",
      "For Ridge Model, the MSE on train data is:  4831534664.89339 and MSE and R2 for test data is:  4861027927.55392 & 0.63847\n",
      "For Lasso Model, the MSE on train data is:  4831534618.09612 and MSE and R2 for test data is:  4861018922.44606 & 0.63847\n"
     ]
    }
   ],
   "source": [
    "LR = LinearRegression()\n",
    "LR_fit = LR.fit(X_train, Y_train)\n",
    "mse_lr_train = mean_squared_error(Y_train, LR_fit.predict(X_train))\n",
    "mse_lr_test =  mean_squared_error(Y_test, LR_fit.predict(X_test))\n",
    "r2_score_lm = r2_score(Y_test, LR_fit.predict(X_test))\n",
    "\n",
    "\n",
    "#ridge = Ridge(alpha = 14.174742)\n",
    "ridge = Ridge()\n",
    "ridge_fit = ridge.fit(X_train, Y_train)\n",
    "mse_ridge_train = mean_squared_error(Y_train, ridge_fit.predict(X_train))\n",
    "mse_ridge_test =  mean_squared_error(Y_test, ridge_fit.predict(X_test))               \n",
    "r2_score_ridge= r2_score(Y_test, ridge_fit.predict(X_test))\n",
    "\n",
    "#lasso = Lasso(alpha = 57.223677)\n",
    "lasso = Lasso()\n",
    "lasso_fit = lasso.fit(X_train, Y_train)\n",
    "mse_lasso_train = mean_squared_error(Y_train, lasso_fit.predict(X_train))\n",
    "mse_lasso_test =  mean_squared_error(Y_test, lasso_fit.predict(X_test))  \n",
    "r2_score_lasso = r2_score(Y_test, lasso_fit.predict(X_test))\n",
    "\n",
    "print(\"For Linear Model, the MSE on train data is: \", round(mse_lr_train,5), \"and MSE and R2 for test data is: \",round(mse_lr_test,5), \"&\", round(r2_score_lm,5))  \n",
    "print(\"For Ridge Model, the MSE on train data is: \", round(mse_ridge_train,5), \"and MSE and R2 for test data is: \",round(mse_ridge_test,5), \"&\", round(r2_score_ridge,5))  \n",
    "print(\"For Lasso Model, the MSE on train data is: \", round(mse_lasso_train,5), \"and MSE and R2 for test data is: \",round(mse_lasso_test,5), \"&\", round(r2_score_lasso,5))  "
   ]
  },
  {
   "cell_type": "markdown",
   "metadata": {},
   "source": [
    "**7) Why did we have to scale the data in ridge and lasso regression? (3 pts)**"
   ]
  },
  {
   "cell_type": "markdown",
   "metadata": {},
   "source": [
    "The reason to normalise the data before regularization is to ensure that the regularisation term 𝜆 regularises/affects the variable involved in a similar manner.  The penalty on particular coefficients in regularized linear regression techniques depends largely on the scale associated with the features. When one feature is on a small range, say from 0 to 10, and another is on a large range, say from 0 to 1,000,000, applying regularization is going to unfairly punish the feature with the small range. Scaling of the variables is done to avoid this unequal penalization."
   ]
  },
  {
   "cell_type": "code",
   "execution_count": null,
   "metadata": {},
   "outputs": [],
   "source": []
  }
 ],
 "metadata": {
  "colab": {
   "collapsed_sections": [],
   "name": "Advanced_ML_HW1.ipynb",
   "provenance": []
  },
  "kernelspec": {
   "display_name": "Python 3 (ipykernel)",
   "language": "python",
   "name": "python3"
  },
  "language_info": {
   "codemirror_mode": {
    "name": "ipython",
    "version": 3
   },
   "file_extension": ".py",
   "mimetype": "text/x-python",
   "name": "python",
   "nbconvert_exporter": "python",
   "pygments_lexer": "ipython3",
   "version": "3.9.12"
  }
 },
 "nbformat": 4,
 "nbformat_minor": 1
}
